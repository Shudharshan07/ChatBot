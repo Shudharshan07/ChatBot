{
  "nbformat": 4,
  "nbformat_minor": 0,
  "metadata": {
    "colab": {
      "provenance": [],
      "mount_file_id": "https://github.com/Shudharshan07/ChatBot/blob/main/test.ipynb",
      "authorship_tag": "ABX9TyP/pMWA4YcIrJ4BedN20IDZ",
      "include_colab_link": true
    },
    "kernelspec": {
      "name": "python3",
      "display_name": "Python 3"
    },
    "language_info": {
      "name": "python"
    }
  },
  "cells": [
    {
      "cell_type": "markdown",
      "metadata": {
        "id": "view-in-github",
        "colab_type": "text"
      },
      "source": [
        "<a href=\"https://colab.research.google.com/github/Shudharshan07/ChatBot/blob/main/test.ipynb\" target=\"_parent\"><img src=\"https://colab.research.google.com/assets/colab-badge.svg\" alt=\"Open In Colab\"/></a>"
      ]
    },
    {
      "cell_type": "code",
      "execution_count": 3,
      "metadata": {
        "id": "Exl_uiSKazcN"
      },
      "outputs": [],
      "source": [
        "pkl = '/content/drive/MyDrive/Glove/Glove300d.pkl'\n",
        "pt = '/content/drive/MyDrive/Glove/Glove300d.pt'"
      ]
    },
    {
      "cell_type": "code",
      "source": [
        "import pickle\n",
        "import torch\n",
        "import torch.nn as nn"
      ],
      "metadata": {
        "id": "NNQyiExRDEwf"
      },
      "execution_count": 4,
      "outputs": []
    },
    {
      "cell_type": "code",
      "source": [
        "with open(pkl, 'rb') as f:\n",
        "  vocab = pickle.load(f)\n",
        "\n",
        "with open(pt, 'rb') as f:\n",
        "  embedding = torch.load(f)"
      ],
      "metadata": {
        "id": "w7aAPHCEC8Im"
      },
      "execution_count": 5,
      "outputs": []
    },
    {
      "cell_type": "code",
      "source": [],
      "metadata": {
        "id": "7kNSUikVDZ8I",
        "outputId": "a3c67b9d-e1e2-4e8e-9708-7c5e62fb7993",
        "colab": {
          "base_uri": "https://localhost:8080/"
        }
      },
      "execution_count": 9,
      "outputs": [
        {
          "output_type": "execute_result",
          "data": {
            "text/plain": [
              "torch.float32"
            ]
          },
          "metadata": {},
          "execution_count": 9
        }
      ]
    }
  ]
}